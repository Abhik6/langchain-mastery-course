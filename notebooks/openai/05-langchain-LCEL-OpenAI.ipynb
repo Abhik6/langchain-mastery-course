{
 "cells": [
  {
   "cell_type": "markdown",
   "metadata": {},
   "source": [
    "#### LangChain Essentials Course"
   ]
  },
  {
   "cell_type": "markdown",
   "metadata": {},
   "source": [
    "# LangChains Expression Language"
   ]
  },
  {
   "cell_type": "markdown",
   "metadata": {},
   "source": [
    "LangChain is one of the most popular open source libraries for AI Engineers. It's goal is to abstract away the complexity in building AI software, provide easy-to-use building blocks, and make it easier when switching between AI service providers.\n",
    "\n",
    "In this example, we will introduce LangChain's Expression Langauge (LCEL), abstracting a full chain and understanding how it will work. We'll provide examples for both OpenAI's `gpt-4o-mini` *and* Meta's `llama3.2` via Ollama!"
   ]
  },
  {
   "cell_type": "markdown",
   "metadata": {},
   "source": [
    "## Choosing your Model"
   ]
  },
  {
   "cell_type": "markdown",
   "metadata": {},
   "source": [
    "This example is split into two versions - The [Ollama version](), allowing us to run our LLM locally without needing any external services or API keys. The [OpenAI version](https://github.com/aurelio-labs/agents-course/blob/main/04-langchain-ecosystem/01-langchain-essentials/01-langchain-intro-openai.ipynb) uses the OpenAI API and requires an OpenAI API key."
   ]
  },
  {
   "cell_type": "markdown",
   "metadata": {},
   "source": [
    "## Initializing OpenAI's gpt-4o-mini"
   ]
  },
  {
   "cell_type": "markdown",
   "metadata": {},
   "source": [
    "We start by initializing the OpenAI model, fine-tuned for instruction following. We `pull` the model from OpenAI by switching to our terminal and executing:\n",
    "\n",
    "```\n",
    "pip install openai\n",
    "```\n",
    "\n",
    "Once the model libary has finished downloading, we initialize it in LangChain using the `ChatOpenAI` class:"
   ]
  },
  {
   "cell_type": "code",
   "execution_count": 129,
   "metadata": {},
   "outputs": [],
   "source": [
    "# OpenAI key to use the model\n",
    "OPENAI_API_KEY = \"\"\n",
    "\n",
    "openai_model = \"gpt-4o-mini\"\n",
    "\n",
    "import os\n",
    "\n",
    "os.environ[\"OPENAI_API_KEY\"] = OPENAI_API_KEY"
   ]
  },
  {
   "cell_type": "code",
   "execution_count": 130,
   "metadata": {},
   "outputs": [],
   "source": [
    "from langchain.chat_models import ChatOpenAI\n",
    "\n",
    "# For normal accurate responses\n",
    "llm = ChatOpenAI(temperature=0.0, model=openai_model, openai_api_key = OPENAI_API_KEY)\n",
    "\n",
    "# For unique creative responses\n",
    "creative_llm = ChatOpenAI(temperature=0.9, model=openai_model, openai_api_key = OPENAI_API_KEY)"
   ]
  },
  {
   "cell_type": "markdown",
   "metadata": {},
   "source": [
    "## Traditional Chains vs LCEL Chains"
   ]
  },
  {
   "cell_type": "markdown",
   "metadata": {},
   "source": [
    "In this section we're going to dive into a basic example comparing the main difference between the two chains. For this we will use a basic example of finding the user's report, where the user must input a specific topic, and then the LLM will look and return a report on the specified topic."
   ]
  },
  {
   "cell_type": "code",
   "execution_count": 131,
   "metadata": {},
   "outputs": [],
   "source": [
    "from langchain.schema.output_parser import StrOutputParser\n",
    "\n",
    "output_parser = StrOutputParser()"
   ]
  },
  {
   "cell_type": "code",
   "execution_count": 132,
   "metadata": {},
   "outputs": [],
   "source": [
    "from langchain import PromptTemplate\n",
    "\n",
    "prompt_template = \"Give me a small report of {topic}\"\n",
    "\n",
    "prompt = PromptTemplate(\n",
    "    input_variables=[\"topic\"],\n",
    "    template=prompt_template\n",
    ")"
   ]
  },
  {
   "cell_type": "markdown",
   "metadata": {},
   "source": [
    "Here is a standard LLMChain, this has the basic function like properties where we would call a name of the function, and pass in parameters to adjust the function, in this case, prompt, llm and output_parser, where the prompt will be used by the model, and then the result of the model will be used by the output parser."
   ]
  },
  {
   "cell_type": "code",
   "execution_count": 134,
   "metadata": {},
   "outputs": [],
   "source": [
    "from langchain.chains import LLMChain\n",
    "\n",
    "chain = LLMChain(\n",
    "    prompt = prompt,\n",
    "    llm = llm,\n",
    "    output_parser = output_parser\n",
    ")"
   ]
  },
  {
   "cell_type": "code",
   "execution_count": 135,
   "metadata": {},
   "outputs": [
    {
     "name": "stdout",
     "output_type": "stream",
     "text": [
      "{'topic': 'AI', 'text': '### Report on Artificial Intelligence (AI)\\n\\n#### Introduction\\nArtificial Intelligence (AI) refers to the simulation of human intelligence in machines programmed to think and learn like humans. It encompasses a variety of technologies and methodologies, including machine learning, natural language processing, robotics, and computer vision. AI has become a transformative force across multiple sectors, influencing how businesses operate, how services are delivered, and how individuals interact with technology.\\n\\n#### Current Trends in AI\\n1. **Machine Learning and Deep Learning**: These subfields of AI focus on algorithms that allow computers to learn from and make predictions based on data. Deep learning, a subset of machine learning, utilizes neural networks with many layers to analyze various forms of data.\\n\\n2. **Natural Language Processing (NLP)**: NLP enables machines to understand, interpret, and respond to human language. Applications include chatbots, virtual assistants, and language translation services.\\n\\n3. **Computer Vision**: This technology allows machines to interpret and make decisions based on visual data. It is widely used in facial recognition, autonomous vehicles, and medical imaging.\\n\\n4. **AI Ethics and Governance**: As AI technologies advance, ethical considerations regarding privacy, bias, and accountability have gained prominence. Organizations are increasingly focusing on developing frameworks to ensure responsible AI use.\\n\\n5. **AI in Automation**: AI is driving automation across industries, enhancing efficiency and reducing operational costs. Robotic Process Automation (RPA) is a notable example, where software robots automate repetitive tasks.\\n\\n#### Applications of AI\\n- **Healthcare**: AI is used for diagnostics, personalized medicine, and predictive analytics, improving patient outcomes and operational efficiency.\\n- **Finance**: AI algorithms analyze market trends, assess risks, and detect fraudulent activities, enhancing decision-making processes.\\n- **Retail**: AI enhances customer experiences through personalized recommendations, inventory management, and supply chain optimization.\\n- **Transportation**: Autonomous vehicles and traffic management systems leverage AI to improve safety and efficiency.\\n\\n#### Challenges and Concerns\\n- **Data Privacy**: The collection and use of personal data raise concerns about privacy and security.\\n- **Bias and Fairness**: AI systems can perpetuate existing biases if trained on biased data, leading to unfair outcomes.\\n- **Job Displacement**: Automation driven by AI may lead to job losses in certain sectors, necessitating workforce reskilling and adaptation.\\n\\n#### Future Outlook\\nThe future of AI is promising, with ongoing advancements expected to enhance its capabilities and applications. Key areas of focus include:\\n- **Explainable AI**: Developing AI systems that can provide transparent and understandable reasoning for their decisions.\\n- **General AI**: Research is ongoing to create AI that can perform any intellectual task that a human can do, though this remains a long-term goal.\\n- **Collaboration between Humans and AI**: The future will likely see more collaborative systems where AI augments human capabilities rather than replacing them.\\n\\n#### Conclusion\\nAI is reshaping industries and society, offering significant benefits while also presenting challenges that need to be addressed. As technology continues to evolve, a balanced approach that emphasizes ethical considerations and human oversight will be crucial for harnessing the full potential of AI.\\n\\n--- \\n\\nThis report provides a concise overview of the current state of AI, its applications, challenges, and future directions.'}\n"
     ]
    }
   ],
   "source": [
    "result = chain.invoke(\"AI\")\n",
    "print(result)"
   ]
  },
  {
   "cell_type": "markdown",
   "metadata": {},
   "source": [
    "This is a LCEL chain, as you can see, this initially appears to be abit 'hacky' but the abstraction allows for us to skip calling a function and pass our variables into eachother instead."
   ]
  },
  {
   "cell_type": "code",
   "execution_count": 136,
   "metadata": {},
   "outputs": [],
   "source": [
    "lcel_chain = prompt | llm | output_parser"
   ]
  },
  {
   "cell_type": "code",
   "execution_count": 137,
   "metadata": {},
   "outputs": [
    {
     "name": "stdout",
     "output_type": "stream",
     "text": [
      "### Report on Artificial Intelligence (AI)\n",
      "\n",
      "#### Introduction\n",
      "Artificial Intelligence (AI) refers to the simulation of human intelligence in machines programmed to think and learn like humans. It encompasses a variety of technologies and methodologies, including machine learning, natural language processing, robotics, and computer vision. AI has become a transformative force across multiple sectors, influencing how businesses operate, how services are delivered, and how individuals interact with technology.\n",
      "\n",
      "#### Current Trends in AI\n",
      "1. **Machine Learning and Deep Learning**: These subfields of AI focus on algorithms that allow computers to learn from and make predictions based on data. Deep learning, a subset of machine learning, utilizes neural networks with many layers to analyze various forms of data.\n",
      "\n",
      "2. **Natural Language Processing (NLP)**: NLP enables machines to understand, interpret, and respond to human language. Applications include chatbots, virtual assistants, and language translation services.\n",
      "\n",
      "3. **Computer Vision**: This technology allows machines to interpret and make decisions based on visual data. It is widely used in facial recognition, autonomous vehicles, and medical imaging.\n",
      "\n",
      "4. **AI Ethics and Governance**: As AI technologies advance, ethical considerations surrounding privacy, bias, and accountability have gained prominence. Organizations are increasingly focusing on developing frameworks to ensure responsible AI use.\n",
      "\n",
      "5. **AI in Automation**: AI is driving automation across industries, enhancing efficiency and reducing operational costs. Robotic Process Automation (RPA) is one example where AI is used to automate repetitive tasks.\n",
      "\n",
      "#### Applications of AI\n",
      "- **Healthcare**: AI is used for diagnostics, personalized medicine, and predictive analytics to improve patient outcomes.\n",
      "- **Finance**: AI algorithms analyze market trends, detect fraud, and automate trading processes.\n",
      "- **Retail**: AI enhances customer experiences through personalized recommendations and inventory management.\n",
      "- **Transportation**: Autonomous vehicles and traffic management systems leverage AI for improved safety and efficiency.\n",
      "\n",
      "#### Challenges and Concerns\n",
      "- **Data Privacy**: The collection and use of personal data raise concerns about privacy and security.\n",
      "- **Bias and Fairness**: AI systems can perpetuate existing biases if trained on biased data, leading to unfair outcomes.\n",
      "- **Job Displacement**: Automation driven by AI may lead to job losses in certain sectors, necessitating workforce reskilling.\n",
      "\n",
      "#### Future Outlook\n",
      "The future of AI is promising, with ongoing advancements expected to enhance its capabilities and applications. Key areas of focus include:\n",
      "- **Explainable AI**: Developing AI systems that can provide transparent and understandable reasoning for their decisions.\n",
      "- **General AI**: Research is ongoing to create AI that can perform any intellectual task that a human can do, though this remains a long-term goal.\n",
      "- **Collaboration between Humans and AI**: The future will likely see more collaborative systems where AI augments human capabilities rather than replacing them.\n",
      "\n",
      "#### Conclusion\n",
      "AI is reshaping industries and society, offering significant benefits while also presenting challenges that need to be addressed. As technology continues to evolve, it is crucial for stakeholders to engage in discussions about ethical practices, governance, and the societal impact of AI to ensure its responsible development and deployment.\n",
      "\n",
      "--- \n",
      "\n",
      "This report provides a concise overview of the current state of AI, its applications, challenges, and future directions.\n"
     ]
    }
   ],
   "source": [
    "result = lcel_chain.invoke(\"AI\")\n",
    "print(result)"
   ]
  },
  {
   "cell_type": "markdown",
   "metadata": {},
   "source": [
    "## How Does LCEL Work?"
   ]
  },
  {
   "cell_type": "markdown",
   "metadata": {},
   "source": [
    "The concept is reasonably simple, you start on the far left side of the line, look at the first variable, and the output to that variable is passed into the next variable, before we had ***prompt | llm | output_parser***, we can see that the prompt, feeds into the model, then the model result feeds into the output parser."
   ]
  },
  {
   "cell_type": "markdown",
   "metadata": {},
   "source": [
    "When we use the pipe operator **|** we are basically looking for a or function, this is where we can find a chained functionallity to the variable."
   ]
  },
  {
   "cell_type": "markdown",
   "metadata": {},
   "source": [
    "Let's make a basic runnable class to show you the basics of how this works."
   ]
  },
  {
   "cell_type": "code",
   "execution_count": 138,
   "metadata": {},
   "outputs": [],
   "source": [
    "class Runnable:\n",
    "    def __init__(self, func):\n",
    "        self.func = func\n",
    "    def __or__(self, other):\n",
    "        def chained_func(*args, **kwargs):\n",
    "            return other(self.func(*args, **kwargs))\n",
    "        return Runnable(chained_func)\n",
    "    def __call__(self, *args, **kwargs):\n",
    "        return self.func(*args, **kwargs)"
   ]
  },
  {
   "cell_type": "markdown",
   "metadata": {},
   "source": [
    "We firstly want to make a bunch of random functions, in this case we will do some simple maths with each function."
   ]
  },
  {
   "cell_type": "code",
   "execution_count": 139,
   "metadata": {},
   "outputs": [],
   "source": [
    "def add_five(x):\n",
    "    return x+5\n",
    "def sub_five(x):\n",
    "    return x-5\n",
    "def mul_five(x):\n",
    "    return x*5"
   ]
  },
  {
   "cell_type": "markdown",
   "metadata": {},
   "source": [
    "Now we want to coat our functions with the runnable so that the or function can be identified."
   ]
  },
  {
   "cell_type": "code",
   "execution_count": 140,
   "metadata": {},
   "outputs": [],
   "source": [
    "add_five = Runnable(add_five)\n",
    "sub_five = Runnable(sub_five)\n",
    "mul_five = Runnable(mul_five)"
   ]
  },
  {
   "cell_type": "markdown",
   "metadata": {},
   "source": [
    "Now as you can see we can chain together the 3 functions we made just earlier using the or function, and if we switch the or functions out for the pipe operator, it does exactly the same."
   ]
  },
  {
   "cell_type": "code",
   "execution_count": 141,
   "metadata": {},
   "outputs": [
    {
     "data": {
      "text/plain": [
       "15"
      ]
     },
     "execution_count": 141,
     "metadata": {},
     "output_type": "execute_result"
    }
   ],
   "source": [
    "chain = (add_five).__or__(sub_five).__or__(mul_five)\n",
    "chain(3)"
   ]
  },
  {
   "cell_type": "code",
   "execution_count": 142,
   "metadata": {},
   "outputs": [
    {
     "data": {
      "text/plain": [
       "15"
      ]
     },
     "execution_count": 142,
     "metadata": {},
     "output_type": "execute_result"
    }
   ],
   "source": [
    "chain = add_five | sub_five | mul_five\n",
    "chain(3)"
   ]
  },
  {
   "cell_type": "markdown",
   "metadata": {},
   "source": [
    "## LCEL Parallel Use-Case Scenario"
   ]
  },
  {
   "cell_type": "markdown",
   "metadata": {},
   "source": [
    "In this section we will go over how we can use LCEL's parallel capabilities.\n",
    "\n",
    "To start us of with, we will have two statements, one side telling the AI the month and day Josh was born, and the other telling the AI the year Josh was born. We will then embed the statements and feed them into AI together."
   ]
  },
  {
   "cell_type": "code",
   "execution_count": 143,
   "metadata": {},
   "outputs": [],
   "source": [
    "from langchain.embeddings import OpenAIEmbeddings\n",
    "from langchain.vectorstores import DocArrayInMemorySearch\n",
    "\n",
    "embedding = OpenAIEmbeddings()\n",
    "vecstore_a = DocArrayInMemorySearch.from_texts(\n",
    "    [\"half the info is here\", \"Joshs' birthday is June the 12th\"], \n",
    "    embedding=embedding\n",
    ")\n",
    "vecstore_b = DocArrayInMemorySearch.from_texts(\n",
    "    [\"the other half of the info is here\", \"Josh was born in 2002\"], \n",
    "    embedding=embedding\n",
    ")"
   ]
  },
  {
   "cell_type": "markdown",
   "metadata": {},
   "source": [
    "Here you can see the prompt does have three inputs, two for context and one for the question itself."
   ]
  },
  {
   "cell_type": "code",
   "execution_count": 144,
   "metadata": {},
   "outputs": [],
   "source": [
    "prompt_str = \"\"\" using the following context answer the question\n",
    "Context: \n",
    "{context_a}\n",
    "{context_b}\n",
    "\n",
    "Question:\n",
    "{question}\n",
    "\n",
    "Answer: \"\"\""
   ]
  },
  {
   "cell_type": "code",
   "execution_count": 145,
   "metadata": {},
   "outputs": [],
   "source": [
    "from langchain.prompts.chat import ChatPromptTemplate\n",
    "\n",
    "prompt = ChatPromptTemplate.from_template(prompt_str)"
   ]
  },
  {
   "cell_type": "markdown",
   "metadata": {},
   "source": [
    "Here we are wrapping our vector stores as retrievers so they can be fitted into one big retrieval variable to be used by the prompt."
   ]
  },
  {
   "cell_type": "code",
   "execution_count": 146,
   "metadata": {},
   "outputs": [],
   "source": [
    "from langchain_core.runnables import RunnablePassthrough, RunnableParallel\n",
    "\n",
    "retriever_a = vecstore_a.as_retriever()\n",
    "retriever_b = vecstore_b.as_retriever()\n",
    "\n",
    "retrieval = RunnableParallel(\n",
    "    {\n",
    "        \"context_a\": retriever_a, \"context_b\": retriever_b, \"question\": RunnablePassthrough()\n",
    "    }\n",
    ")"
   ]
  },
  {
   "cell_type": "code",
   "execution_count": 147,
   "metadata": {},
   "outputs": [],
   "source": [
    "chain = retrieval | prompt | llm | output_parser"
   ]
  },
  {
   "cell_type": "code",
   "execution_count": 148,
   "metadata": {},
   "outputs": [],
   "source": [
    "result = chain.invoke(\"What was the date when Josh was born\")"
   ]
  },
  {
   "cell_type": "code",
   "execution_count": 149,
   "metadata": {},
   "outputs": [
    {
     "data": {
      "text/plain": [
       "'Josh was born on June 12, 2002.'"
      ]
     },
     "execution_count": 149,
     "metadata": {},
     "output_type": "execute_result"
    }
   ],
   "source": [
    "result"
   ]
  },
  {
   "cell_type": "markdown",
   "metadata": {},
   "source": [
    "## LangChain's RunnableLambdas"
   ]
  },
  {
   "cell_type": "markdown",
   "metadata": {},
   "source": [
    "You can use arbitrary functions as Runnables. This is useful for formatting or when you need functionality not provided by other LangChain components, and custom functions used as Runnables are called RunnableLambdas.\n",
    "\n",
    "Note that all inputs to these functions need to be a SINGLE argument. If you have a function that accepts multiple arguments, you should write a wrapper that accepts a single dict input and unpacks it into multiple arguments."
   ]
  },
  {
   "cell_type": "code",
   "execution_count": 150,
   "metadata": {},
   "outputs": [],
   "source": [
    "from langchain_core.runnables import RunnableLambda"
   ]
  },
  {
   "cell_type": "markdown",
   "metadata": {},
   "source": [
    "Here we can make some custom functions that do simple maths again, and see that RunnableLambdas can compile and output the correct results."
   ]
  },
  {
   "cell_type": "code",
   "execution_count": 151,
   "metadata": {},
   "outputs": [],
   "source": [
    "def add_five(x):\n",
    "    return x+5\n",
    "def sub_five(x):\n",
    "    return x-5\n",
    "def mul_five(x):\n",
    "    return x*5"
   ]
  },
  {
   "cell_type": "code",
   "execution_count": 152,
   "metadata": {},
   "outputs": [],
   "source": [
    "add_five = RunnableLambda(add_five)\n",
    "sub_five = RunnableLambda(sub_five)\n",
    "mul_five = RunnableLambda(mul_five)"
   ]
  },
  {
   "cell_type": "code",
   "execution_count": 153,
   "metadata": {},
   "outputs": [],
   "source": [
    "chain = add_five | sub_five | mul_five"
   ]
  },
  {
   "cell_type": "code",
   "execution_count": 154,
   "metadata": {},
   "outputs": [
    {
     "data": {
      "text/plain": [
       "15"
      ]
     },
     "execution_count": 154,
     "metadata": {},
     "output_type": "execute_result"
    }
   ],
   "source": [
    "chain.invoke(3)"
   ]
  },
  {
   "cell_type": "markdown",
   "metadata": {},
   "source": [
    "Now we want to try something a little more testing, so this time we will generate a report, and we will try and edit that report using this functionallity."
   ]
  },
  {
   "cell_type": "code",
   "execution_count": 155,
   "metadata": {},
   "outputs": [],
   "source": [
    "prompt_str = \"give me a small report about {topic}\"\n",
    "prompt = PromptTemplate(\n",
    "    input_variables=[\"topic\"],\n",
    "    template=prompt_str\n",
    ")"
   ]
  },
  {
   "cell_type": "code",
   "execution_count": 156,
   "metadata": {},
   "outputs": [],
   "source": [
    "chain = prompt | llm | output_parser"
   ]
  },
  {
   "cell_type": "code",
   "execution_count": 157,
   "metadata": {},
   "outputs": [],
   "source": [
    "result = chain.invoke(\"AI\")"
   ]
  },
  {
   "cell_type": "code",
   "execution_count": 158,
   "metadata": {},
   "outputs": [
    {
     "name": "stdout",
     "output_type": "stream",
     "text": [
      "### Report on Artificial Intelligence (AI)\n",
      "\n",
      "#### Introduction\n",
      "Artificial Intelligence (AI) refers to the simulation of human intelligence in machines programmed to think and learn like humans. It encompasses a variety of technologies and methodologies, including machine learning, natural language processing, robotics, and computer vision. AI has rapidly evolved over the past few decades, becoming an integral part of various industries and daily life.\n",
      "\n",
      "#### Historical Background\n",
      "The concept of AI dates back to the mid-20th century, with pioneers like Alan Turing and John McCarthy laying the groundwork. The term \"artificial intelligence\" was coined in 1956 during the Dartmouth Conference, which is considered the birth of AI as a field. Initial progress was slow, leading to periods of reduced funding and interest known as \"AI winters.\" However, advancements in computing power, data availability, and algorithmic techniques have led to a resurgence in AI research and applications since the 2000s.\n",
      "\n",
      "#### Current Applications\n",
      "AI is now widely used across various sectors, including:\n",
      "\n",
      "1. **Healthcare**: AI algorithms assist in diagnosing diseases, personalizing treatment plans, and managing patient data.\n",
      "2. **Finance**: AI is employed for fraud detection, algorithmic trading, and risk assessment.\n",
      "3. **Transportation**: Autonomous vehicles utilize AI for navigation and decision-making.\n",
      "4. **Retail**: AI enhances customer experience through personalized recommendations and inventory management.\n",
      "5. **Manufacturing**: AI-driven automation improves efficiency and reduces operational costs.\n",
      "\n",
      "#### Challenges and Ethical Considerations\n",
      "Despite its benefits, AI poses several challenges:\n",
      "\n",
      "- **Bias and Fairness**: AI systems can perpetuate existing biases present in training data, leading to unfair outcomes.\n",
      "- **Privacy**: The use of AI in data collection raises concerns about user privacy and data security.\n",
      "- **Job Displacement**: Automation may lead to job losses in certain sectors, necessitating workforce retraining.\n",
      "- **Accountability**: Determining responsibility for AI-driven decisions remains a complex issue.\n",
      "\n",
      "#### Future Trends\n",
      "The future of AI is promising, with trends indicating:\n",
      "\n",
      "- **Increased Integration**: AI will become more embedded in everyday technologies, enhancing user experiences.\n",
      "- **Explainable AI**: There will be a push for transparency in AI decision-making processes to build trust.\n",
      "- **Regulation**: Governments and organizations are likely to implement regulations to ensure ethical AI use.\n",
      "- **Advancements in General AI**: Research continues toward developing Artificial General Intelligence (AGI), which would possess human-like cognitive abilities.\n",
      "\n",
      "#### Conclusion\n",
      "AI is transforming industries and society, offering significant benefits while also presenting challenges that require careful consideration. As technology continues to evolve, it is crucial to balance innovation with ethical practices to ensure that AI serves humanity positively and equitably.\n",
      "\n",
      "#### References\n",
      "- Russell, S., & Norvig, P. (2020). *Artificial Intelligence: A Modern Approach*.\n",
      "- Binns, R. (2018). Fairness in Machine Learning: Lessons from Political Philosophy.\n",
      "- European Commission. (2021). White Paper on Artificial Intelligence: A European approach to excellence and trust.\n"
     ]
    }
   ],
   "source": [
    "print(result)"
   ]
  },
  {
   "cell_type": "markdown",
   "metadata": {},
   "source": [
    "Here we are making two functions, one that will get rid of the introduction to the AI finding the information, instead we will just see the information, and word replacer that will replace AI with Josh!"
   ]
  },
  {
   "cell_type": "code",
   "execution_count": 159,
   "metadata": {},
   "outputs": [],
   "source": [
    "def extract_fact(x):\n",
    "    if \"\\n\\n\" in x:\n",
    "        return \"\\n\".join(x.split(\"\\n\\n\")[1:])\n",
    "    else:\n",
    "        return x\n",
    "    \n",
    "old_word = \"AI\"\n",
    "new_word = \"Josh\"\n",
    "\n",
    "def replace_word(x):\n",
    "    return x.replace(old_word, new_word)"
   ]
  },
  {
   "cell_type": "markdown",
   "metadata": {},
   "source": [
    "Lets wrap these functions and see what the output is!"
   ]
  },
  {
   "cell_type": "code",
   "execution_count": 161,
   "metadata": {},
   "outputs": [],
   "source": [
    "extract_fact = RunnableLambda(extract_fact)\n",
    "replace_word = RunnableLambda(replace_word)"
   ]
  },
  {
   "cell_type": "code",
   "execution_count": 162,
   "metadata": {},
   "outputs": [],
   "source": [
    "chain = prompt | llm | output_parser | extract_fact | replace_word"
   ]
  },
  {
   "cell_type": "code",
   "execution_count": 163,
   "metadata": {},
   "outputs": [],
   "source": [
    "result = chain.invoke(\"AI\")"
   ]
  },
  {
   "cell_type": "code",
   "execution_count": 164,
   "metadata": {},
   "outputs": [
    {
     "name": "stdout",
     "output_type": "stream",
     "text": [
      "#### Introduction\n",
      "Artificial Intelligence (Josh) refers to the simulation of human intelligence in machines programmed to think and learn like humans. It encompasses a variety of technologies and methodologies, including machine learning, natural language processing, robotics, and computer vision. Josh has rapidly evolved over the past few decades, becoming an integral part of various industries and daily life.\n",
      "#### Historical Context\n",
      "The concept of Josh dates back to the mid-20th century, with pioneers like Alan Turing and John McCarthy laying the groundwork. The term \"artificial intelligence\" was coined in 1956 during the Dartmouth Conference, which is considered the birth of Josh as a field. Early Josh research focused on problem-solving and symbolic methods, but progress was slow due to limited computational power and data.\n",
      "#### Current Trends\n",
      "1. **Machine Learning (ML)**: A subset of Josh that enables systems to learn from data and improve over time without explicit programming. Deep learning, a branch of ML, uses neural networks to analyze vast amounts of data, leading to breakthroughs in image and speech recognition.\n",
      "2. **Natural Language Processing (NLP)**: This technology allows machines to understand and respond to human language. Applications include chatbots, virtual assistants, and language translation services.\n",
      "3. **Robotics**: Josh is increasingly integrated into robotics, enabling machines to perform complex tasks in manufacturing, healthcare, and logistics. Autonomous vehicles are a prominent example of Josh in robotics.\n",
      "4. **Josh Ethics and Regulation**: As Josh technologies advance, ethical considerations and regulatory frameworks are becoming critical. Issues such as bias in algorithms, data privacy, and the impact of automation on jobs are at the forefront of discussions among policymakers and technologists.\n",
      "#### Applications\n",
      "Josh is transforming various sectors, including:\n",
      "- **Healthcare**: Josh algorithms assist in diagnosing diseases, personalizing treatment plans, and managing patient data.\n",
      "- **Finance**: Josh is used for fraud detection, algorithmic trading, and risk assessment.\n",
      "- **Retail**: Personalized shopping experiences, inventory management, and customer service chatbots are powered by Josh.\n",
      "- **Transportation**: Josh enhances logistics, route optimization, and the development of self-driving cars.\n",
      "#### Challenges\n",
      "Despite its potential, Josh faces several challenges:\n",
      "- **Data Privacy**: The collection and use of personal data raise concerns about privacy and security.\n",
      "- **Bias and Fairness**: Josh systems can perpetuate existing biases if trained on biased data, leading to unfair outcomes.\n",
      "- **Job Displacement**: Automation may lead to job losses in certain sectors, necessitating workforce retraining and adaptation.\n",
      "#### Conclusion\n",
      "Artificial Intelligence is a rapidly evolving field with the potential to revolutionize industries and improve quality of life. However, it also presents significant challenges that require careful consideration and proactive management. As Josh continues to advance, collaboration among technologists, ethicists, and policymakers will be essential to harness its benefits while mitigating risks.\n",
      "#### Recommendations\n",
      "- **Invest in Josh Education**: Promote education and training in Josh to prepare the workforce for future job demands.\n",
      "- **Establish Ethical Guidelines**: Develop frameworks to ensure Josh systems are fair, transparent, and accountable.\n",
      "- **Encourage Public Dialogue**: Foster discussions among stakeholders to address societal impacts and ethical considerations of Josh technologies.\n",
      "---\n",
      "This report provides a brief overview of Josh, its current trends, applications, challenges, and recommendations for future development.\n"
     ]
    }
   ],
   "source": [
    "print(result)"
   ]
  }
 ],
 "metadata": {
  "kernelspec": {
   "display_name": ".venv",
   "language": "python",
   "name": "python3"
  },
  "language_info": {
   "codemirror_mode": {
    "name": "ipython",
    "version": 3
   },
   "file_extension": ".py",
   "mimetype": "text/x-python",
   "name": "python",
   "nbconvert_exporter": "python",
   "pygments_lexer": "ipython3",
   "version": "3.12.7"
  }
 },
 "nbformat": 4,
 "nbformat_minor": 2
}
