{
 "cells": [
  {
   "cell_type": "markdown",
   "metadata": {},
   "source": [
    "## Test Streaming API"
   ]
  },
  {
   "cell_type": "markdown",
   "metadata": {},
   "source": [
    "This notebook covers hitting the API `/invoke` endpoint and streaming the code to our terminal."
   ]
  },
  {
   "cell_type": "code",
   "execution_count": 1,
   "metadata": {},
   "outputs": [],
   "source": [
    "import requests\n",
    "\n",
    "def get_stream(query: str):\n",
    "    localsession = requests.Session()\n",
    "    with localsession.post(\n",
    "        f\"http://localhost:8000/invoke?content={query}\",\n",
    "        stream=True\n",
    "    ) as response:\n",
    "        for line in response.iter_content():\n",
    "            print(line.decode(\"utf-8\"), end=\"\", flush=True) "
   ]
  },
  {
   "cell_type": "markdown",
   "metadata": {},
   "source": [
    "We can test with the simple `add` tool first:"
   ]
  },
  {
   "cell_type": "code",
   "execution_count": 2,
   "metadata": {},
   "outputs": [
    {
     "name": "stdout",
     "output_type": "stream",
     "text": [
      "<step><step_name>multiply</step_name>{\"x\":5,\"y\":5}</step><step><step_name>final_answer</step_name>{\"answer\":\"The result of 5 multiplied by 5 is 25.\",\"tools_used\":[\"functions.multiply\"]}"
     ]
    }
   ],
   "source": [
    "get_stream(\"what is 5+5\")"
   ]
  },
  {
   "cell_type": "markdown",
   "metadata": {},
   "source": [
    "Now let's try the `serpapi` tool:"
   ]
  },
  {
   "cell_type": "code",
   "execution_count": 3,
   "metadata": {},
   "outputs": [
    {
     "name": "stdout",
     "output_type": "stream",
     "text": [
      "<step><step_name>serpapi</step_name>{\"query\":\"latest world news\"}</step><step><step_name>final_answer</step_name>{\"answer\":\"Here are some of the latest news highlights from around the world:\\n\\n1. **Six elephants dead after being hit by train in Sri Lanka** - No injuries were reported among passengers of the train, which derailed after striking the elephants. [Read more](https://www.bbc.com/news/world)\\n\\n2. **US and Russia to negotiate end of Ukraine war** - Teams from both countries are set to negotiate, excluding Kyiv from the talks. [Read more](https://www.cnn.com/world)\\n\\n3. **Hamas hands over bodies of four Israeli hostages** - This includes the remains of children and their mother. [Read more](https://news.google.com/)\\n\\n4. **Real Madrid beats Manchester City 3-1** - This victory allows Real Madrid to reach the Champions League last 16. [Read more](https://www.aljazeera.com/)\\n\\nFor more detailed updates, you can visit sources like [BBC](https://www.bbc.com/news/world), [CNN](https://www.cnn.com/world), or [Reuters](https://www.reuters.com/world/).\",\"tools_used\":[\"serpapi\"]}"
     ]
    }
   ],
   "source": [
    "get_stream(\"tell me about the latest news in the world\")"
   ]
  },
  {
   "cell_type": "markdown",
   "metadata": {},
   "source": [
    "---"
   ]
  }
 ],
 "metadata": {
  "kernelspec": {
   "display_name": ".venv",
   "language": "python",
   "name": "python3"
  },
  "language_info": {
   "codemirror_mode": {
    "name": "ipython",
    "version": 3
   },
   "file_extension": ".py",
   "mimetype": "text/x-python",
   "name": "python",
   "nbconvert_exporter": "python",
   "pygments_lexer": "ipython3",
   "version": "3.12.7"
  }
 },
 "nbformat": 4,
 "nbformat_minor": 2
}
